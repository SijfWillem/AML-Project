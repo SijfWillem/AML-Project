{
 "cells": [
  {
   "cell_type": "code",
   "execution_count": 6,
   "metadata": {},
   "outputs": [],
   "source": [
    "import pandas as pd\n",
    "import numpy as np\n",
    "import matplotlib.pyplot as plt\n",
    "import seaborn as sns\n",
    "import os\n"
   ]
  },
  {
   "cell_type": "code",
   "execution_count": 11,
   "metadata": {},
   "outputs": [
    {
     "data": {
      "text/html": [
       "<div>\n",
       "<style scoped>\n",
       "    .dataframe tbody tr th:only-of-type {\n",
       "        vertical-align: middle;\n",
       "    }\n",
       "\n",
       "    .dataframe tbody tr th {\n",
       "        vertical-align: top;\n",
       "    }\n",
       "\n",
       "    .dataframe thead th {\n",
       "        text-align: right;\n",
       "    }\n",
       "</style>\n",
       "<table border=\"1\" class=\"dataframe\">\n",
       "  <thead>\n",
       "    <tr style=\"text-align: right;\">\n",
       "      <th></th>\n",
       "      <th>id</th>\n",
       "      <th>context</th>\n",
       "      <th>question</th>\n",
       "      <th>answers</th>\n",
       "      <th>label</th>\n",
       "    </tr>\n",
       "  </thead>\n",
       "  <tbody>\n",
       "    <tr>\n",
       "      <th>0</th>\n",
       "      <td>train_0</td>\n",
       "      <td>In rheumatoid arthritis, the body' s immune sy...</td>\n",
       "      <td>The statements above, if true, most strongly s...</td>\n",
       "      <td>['Unlike aspirin and other medications that re...</td>\n",
       "      <td>1</td>\n",
       "    </tr>\n",
       "    <tr>\n",
       "      <th>1</th>\n",
       "      <td>train_1</td>\n",
       "      <td>Patient: Pharmacists maintain that doctors sho...</td>\n",
       "      <td>The patient's argument proceeds by</td>\n",
       "      <td>['attempting to discredit a position by questi...</td>\n",
       "      <td>0</td>\n",
       "    </tr>\n",
       "    <tr>\n",
       "      <th>2</th>\n",
       "      <td>train_2</td>\n",
       "      <td>Paula will visit the dentist tomorrow morning ...</td>\n",
       "      <td>The pattern of reasoning displayed above most ...</td>\n",
       "      <td>['If Marge goes to the bank today, Lauren will...</td>\n",
       "      <td>1</td>\n",
       "    </tr>\n",
       "    <tr>\n",
       "      <th>3</th>\n",
       "      <td>train_3</td>\n",
       "      <td>Some theorists argue that literary critics sho...</td>\n",
       "      <td>The argument's conclusion follows logically if...</td>\n",
       "      <td>[\"Any critic who is able to help readers make ...</td>\n",
       "      <td>1</td>\n",
       "    </tr>\n",
       "    <tr>\n",
       "      <th>4</th>\n",
       "      <td>train_4</td>\n",
       "      <td>Shipping Clerk: The five specially ordered shi...</td>\n",
       "      <td>If the shipping clerk's statements are true, w...</td>\n",
       "      <td>['At least one of the shipments sent to Truax ...</td>\n",
       "      <td>0</td>\n",
       "    </tr>\n",
       "  </tbody>\n",
       "</table>\n",
       "</div>"
      ],
      "text/plain": [
       "        id                                            context  \\\n",
       "0  train_0  In rheumatoid arthritis, the body' s immune sy...   \n",
       "1  train_1  Patient: Pharmacists maintain that doctors sho...   \n",
       "2  train_2  Paula will visit the dentist tomorrow morning ...   \n",
       "3  train_3  Some theorists argue that literary critics sho...   \n",
       "4  train_4  Shipping Clerk: The five specially ordered shi...   \n",
       "\n",
       "                                            question  \\\n",
       "0  The statements above, if true, most strongly s...   \n",
       "1                 The patient's argument proceeds by   \n",
       "2  The pattern of reasoning displayed above most ...   \n",
       "3  The argument's conclusion follows logically if...   \n",
       "4  If the shipping clerk's statements are true, w...   \n",
       "\n",
       "                                             answers  label  \n",
       "0  ['Unlike aspirin and other medications that re...      1  \n",
       "1  ['attempting to discredit a position by questi...      0  \n",
       "2  ['If Marge goes to the bank today, Lauren will...      1  \n",
       "3  [\"Any critic who is able to help readers make ...      1  \n",
       "4  ['At least one of the shipments sent to Truax ...      0  "
      ]
     },
     "execution_count": 11,
     "metadata": {},
     "output_type": "execute_result"
    }
   ],
   "source": [
    "sample_sub = pd.read_csv('sample_submission.csv')\n",
    "train = pd.read_csv('train.csv')\n",
    "test = pd.read_csv('test.csv')\n",
    "\n",
    "train.head()\n"
   ]
  },
  {
   "cell_type": "code",
   "execution_count": 12,
   "metadata": {},
   "outputs": [],
   "source": [
    "train_context = train['context']\n",
    "train_question = train['question']\n",
    "train_answers = train['answers']"
   ]
  },
  {
   "cell_type": "code",
   "execution_count": null,
   "metadata": {},
   "outputs": [],
   "source": []
  }
 ],
 "metadata": {
  "kernelspec": {
   "display_name": "Python 3",
   "language": "python",
   "name": "python3"
  },
  "language_info": {
   "codemirror_mode": {
    "name": "ipython",
    "version": 3
   },
   "file_extension": ".py",
   "mimetype": "text/x-python",
   "name": "python",
   "nbconvert_exporter": "python",
   "pygments_lexer": "ipython3",
   "version": "3.11.6"
  }
 },
 "nbformat": 4,
 "nbformat_minor": 2
}
